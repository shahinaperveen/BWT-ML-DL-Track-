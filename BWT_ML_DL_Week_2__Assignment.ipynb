{
  "nbformat": 4,
  "nbformat_minor": 0,
  "metadata": {
    "colab": {
      "provenance": []
    },
    "kernelspec": {
      "name": "python3",
      "display_name": "Python 3"
    },
    "language_info": {
      "name": "python"
    }
  },
  "cells": [
    {
      "cell_type": "markdown",
      "source": [
        "Question 1\n",
        "Write a code that will:\n",
        "1. Prompt the user to enter their name, age, email, and favorite number.\n",
        "2. Stores these inputs in a dictionary with appropriate keys.\n",
        "3. Validate the email format (contains \"@\" and \".\").\n",
        "4. Displays a message using these variables, formatted as: \"Hello [name], you are [age] years old, your email is [email], and your favorite number is [favorite number].\"\n"
      ],
      "metadata": {
        "id": "haLpHEighXm_"
      }
    },
    {
      "cell_type": "code",
      "source": [
        "#defining our function\n",
        "def user_info(name, age, email, fav_num):\n",
        "  if '@' in email and '.' in email:\n",
        "    print(f\"Hello {name}, you are {age} years old, your email is {fav_num}, and your favorite number is {fav_num}\")\n",
        "  else:\n",
        "    print(\"Invalid email format\")\n",
        "\n",
        "#calling our function unser_info\n",
        "name = input(\"Enter your name: \")\n",
        "age = int(input(\"Enter your age: \"))\n",
        "email = input(\"Enter your email: \")\n",
        "fav_num = input(\"Enter your favorite number: \")\n",
        "user_info(name, age, email, fav_num)\n",
        "\n",
        "\n"
      ],
      "metadata": {
        "colab": {
          "base_uri": "https://localhost:8080/"
        },
        "id": "DdZMXZl0hYlm",
        "outputId": "f2923145-c879-4a7a-ec98-f5f7e3b43eac"
      },
      "execution_count": null,
      "outputs": [
        {
          "output_type": "stream",
          "name": "stdout",
          "text": [
            "Enter your name: roy\n",
            "Enter your age: 33\n",
            "Enter your email: roy@gmail.com\n",
            "Enter your favorite number: 2\n",
            "Hello roy, you are 33 years old, your email is 2, and your favorite number is 2\n"
          ]
        }
      ]
    },
    {
      "cell_type": "markdown",
      "source": [
        "Question 2\n",
        "Write a code for a function `Is_even(number)` that will:\n",
        "1. Takes an integer as an input.\n",
        "2. Returns True if the number is even, otherwise False if the number is odd.\n",
        "3. Print whether the number was even or odd hint: use conditions\n"
      ],
      "metadata": {
        "id": "5naf8hJrp36q"
      }
    },
    {
      "cell_type": "code",
      "source": [
        "#defining our function that is is_even\n",
        "#Takes an integer as an input.\n",
        "#Returns True if the number is even, otherwise False if the number is odd.\n",
        "#Print whether the number was even or odd hint: use conditions\n",
        "def is_even(a):\n",
        "  if a%2==0:\n",
        "    print(\"even\")\n",
        "    return True\n",
        "  else:\n",
        "    print(\"odd\")\n",
        "    return False\n",
        "a=int(input(\"Enter an interger: \"))\n",
        "print(is_even(a))"
      ],
      "metadata": {
        "colab": {
          "base_uri": "https://localhost:8080/"
        },
        "id": "2rOu5pQVp4yV",
        "outputId": "2ae208d8-d22e-4cf6-d1e8-c30d4963cfab"
      },
      "execution_count": null,
      "outputs": [
        {
          "output_type": "stream",
          "name": "stdout",
          "text": [
            "Enter an interger: 5\n",
            "odd\n",
            "False\n"
          ]
        }
      ]
    },
    {
      "cell_type": "markdown",
      "source": [
        "Question 3\n",
        "Write a function `convert_temperature(temp, scale)` that:\n",
        "1. Takes a temperature value and a scale (\"C\" for Celsius, \"F\" for Fahrenheit) as inputs.\n",
        "2. Converts the temperature to the other scale.\n",
        "3. Returns the converted temperature.\n",
        "4. Display the converted temperature.\n"
      ],
      "metadata": {
        "id": "86uDozNCxge9"
      }
    },
    {
      "cell_type": "code",
      "source": [
        "#define the funtion\n",
        "def convert_temperature(temp, scale):\n",
        "  if scale == 'C':\n",
        "    temp_ferenheit=(9/5)*temp+32\n",
        "    return \"{:.2f} F\".format(temp_ferenheit)\n",
        "  elif scale == 'F':\n",
        "    temp_celsius=(5/9)*(temp-32) # Calculate Celsius temperature\n",
        "    return \"{:.2f} C\".format(temp_celsius) # Format to 2 decimal places and add \"C\"\n",
        "  else:\n",
        "    print(\"Invalid scale\")\n",
        "\n",
        "#call function\n",
        "temp,scale=int(input(\"Enter temperature: \")),input(\"Enter scale (C or F)\")\n",
        "\n",
        "print(convert_temperature(temp,scale))"
      ],
      "metadata": {
        "colab": {
          "base_uri": "https://localhost:8080/"
        },
        "id": "aS2eVf3t32uo",
        "outputId": "0fbaee9f-6991-4181-f85f-43bfd633d22f"
      },
      "execution_count": null,
      "outputs": [
        {
          "output_type": "stream",
          "name": "stdout",
          "text": [
            "Enter temperature: 1000\n",
            "Enter scale (C or F)C\n",
            "1832.00 F\n"
          ]
        }
      ]
    },
    {
      "cell_type": "markdown",
      "source": [
        "Question 4\n",
        "Write a code that will:\n",
        "1. Contains a function `find_max_min(numbers_list)` that takes a list of numbers and returns both the maximum and minimum numbers in the list.\n",
        "2. Prompts the user to enter 5 numbers, stores them in a list, and then uses the `find_max_min` function to find and display the maximum and minimum numbers.\n"
      ],
      "metadata": {
        "id": "iOQtjPXF49Mz"
      }
    },
    {
      "cell_type": "code",
      "source": [
        "def find_max_min(number_list):\n",
        "  # Initialize max_num and min_num with the first element of the list\n",
        "  max_num = number_list[0]\n",
        "  min_num = number_list[0]\n",
        "\n",
        "  # Iterate through the list to find the actual maximum and minimum\n",
        "  for num in number_list:\n",
        "    if num > max_num:\n",
        "      max_num = num\n",
        "    elif num < min_num:\n",
        "      min_num = num\n",
        "  return max_num, min_num\n",
        "\n",
        "# Prompt the user for input and convert it to a list of integers\n",
        "numbers_string = input(\"Enter 5 numbers separated by commas: \")\n",
        "number_list = [int(x) for x in numbers_string.split(\",\")]\n",
        "\n",
        "# Call the function and print the results\n",
        "max_num, min_num = find_max_min(number_list)\n",
        "print(\"Maximum number:\", max_num)\n",
        "print(\"Minimum number:\", min_num)"
      ],
      "metadata": {
        "colab": {
          "base_uri": "https://localhost:8080/"
        },
        "id": "933svFh7A88q",
        "outputId": "a1e2377a-1111-4b76-e810-c259a300b03f"
      },
      "execution_count": null,
      "outputs": [
        {
          "output_type": "stream",
          "name": "stdout",
          "text": [
            "Enter 5 numbers separated by commas: 3,5,6,4,2\n",
            "Maximum number: 6\n",
            "Minimum number: 2\n"
          ]
        }
      ]
    },
    {
      "cell_type": "code",
      "source": [
        "#same code for multidigit numbers ony by adding x.strip(): We've added .strip()\n",
        "#after each number x is extracted from the split string. This removes any potential leading or\n",
        "#trailing whitespace around the numbers, which could cause issues when converting to integers.\n",
        "\n",
        "def find_max_min(number_list):\n",
        "  # Initialize max_num and min_num with the first element\n",
        "  max_num = number_list[0]\n",
        "  min_num = number_list[0]\n",
        "\n",
        "  for num in number_list:\n",
        "    if num > max_num:\n",
        "      max_num = num\n",
        "    elif num < min_num:\n",
        "      min_num = num\n",
        "  return max_num, min_num  # Return both max_num and min_num\n",
        "\n",
        "# Prompt the user for input and convert it to a list of integers\n",
        "numbers_string = input(\"Enter 5 numbers separated by commas: \")\n",
        "number_list = [int(x.strip()) for x in numbers_string.split(\",\")]  # Strip whitespace\n",
        "\n",
        "# Call the function and print the results\n",
        "max_num, min_num = find_max_min(number_list)\n",
        "print(\"Maximum number:\", max_num)\n",
        "print(\"Minimum number:\", min_num)"
      ],
      "metadata": {
        "colab": {
          "base_uri": "https://localhost:8080/"
        },
        "id": "Ef839jNYFC3c",
        "outputId": "6c1dd27a-2897-450e-eaea-9f66103a2999"
      },
      "execution_count": null,
      "outputs": [
        {
          "output_type": "stream",
          "name": "stdout",
          "text": [
            "Enter 5 numbers separated by commas: 444,5555,2039,5678,1234\n",
            "Maximum number: 5678\n",
            "Minimum number: 444\n"
          ]
        }
      ]
    },
    {
      "cell_type": "markdown",
      "source": [
        "Question 5\n",
        "Write a code that will:\n",
        "1. Prompt the user to enter details of 3 students: name, age, and grade.\n",
        "2. Stores these details in a list of tuples, with each tuple containing the name, age, and grade of a student.\n",
        "3. Convert this list of tuples into a dictionary with the student name as the key and the tuple (age, grade) as the value.\n",
        "4. Displays an appropriate output.\n"
      ],
      "metadata": {
        "id": "U5uZP9OXKFbv"
      }
    },
    {
      "cell_type": "code",
      "source": [
        "student1_details=input(\"Enter details of student 1 in he order(name, age, grade) separated with commas:\")\n",
        "student2_details=input(\"Enter details of student 2 in he order(name, age, grade) separated with commas:\")\n",
        "student3_details=input(\"Enter details of student 3 in he order(name, age, grade) separated with commas:\")\n",
        "#converting the user prompt string into list of tuples:\n",
        "student1_details_tuple=tuple(student1_details.split(\",\"))\n",
        "student2_details_tuple=tuple(student2_details.split(\",\"))\n",
        "student3_details_tuple=tuple(student3_details.split(\",\"))\n",
        "#converting the list of tuples into dictionary with the student name as key and age, grade as value:\n",
        "student1_details_dict={student1_details_tuple[0]:(student1_details_tuple[1],student1_details_tuple[2])}\n",
        "student2_details_dict={student2_details_tuple[0]:(student2_details_tuple[1],student2_details_tuple[2])}\n",
        "student3_details_dict={student3_details_tuple[0]:(student3_details_tuple[1],student3_details_tuple[2])}\n",
        "print(student1_details_dict)\n",
        "print(student2_details_dict)\n",
        "print(student3_details_dict)\n"
      ],
      "metadata": {
        "colab": {
          "base_uri": "https://localhost:8080/"
        },
        "id": "pyfTLTeSKQQx",
        "outputId": "e2950319-aa24-43b7-e87c-8b7106b0d72b"
      },
      "execution_count": null,
      "outputs": [
        {
          "output_type": "stream",
          "name": "stdout",
          "text": [
            "Enter details of student 1 in he order(name, age, grade) separated with commas:zoy,22,A\n",
            "Enter details of student 2 in he order(name, age, grade) separated with commas:ray,19,B\n",
            "Enter details of student 3 in he order(name, age, grade) separated with commas:fary,24,A\n",
            "{'zoy': ('22', 'A')}\n",
            "{'ray': ('19', 'B')}\n",
            "{'fary': ('24', 'A')}\n"
          ]
        }
      ]
    },
    {
      "cell_type": "markdown",
      "source": [
        "Question 6\n",
        "Write a code for function `update_inventory(inventory_dict, item, quantity)` that will:\n",
        "1. Take a dictionary where keys are item names and values are quantities, an item name, and a quantity to add or remove.\n",
        "2. Updates the inventory by adding or removing the specified quantity (use negative values for removal).\n",
        "3. Ensures that the quantity of any item does not go below zero.\n",
        "4. Returns the updated dictionary.\n",
        "\n",
        "Use this function to\n",
        "1. Initialize an inventory dictionary with at least 5 items.\n",
        "2. Prompt the user to update the inventory by adding or removing quantities of 3 items.\n",
        "3. Display the updated inventory.\n"
      ],
      "metadata": {
        "id": "yQuWMAJpKT51"
      }
    },
    {
      "cell_type": "code",
      "source": [
        "# Take a dictionary where keys are item names and values are quantities, an item name, and a quantity to add or remove.\n",
        "def update_inventory(inventory_dict, item, quantity):\n",
        "\n",
        "# Ensures that the quantity of any item does not go below zero.\n",
        "  if item not in inventory_dict:\n",
        "    inventory_dict[item]=0\n",
        "\n",
        "# Updates the inventory by adding or removing the specified quantity (use negative values for removal).\n",
        "#if the item in the inventory_dict is already present in the inventory_dict then just add or remove the quanty\n",
        "  if item in inventory_dict:\n",
        "    new_quantity=inventory_dict[item]+quantity\n",
        "    if new_quantity < 0:\n",
        "      print(f\"cannot remore more items {item} than is currently in stock\")\n",
        "    else:\n",
        "      inventory_dict[item]=new_quantity\n",
        "  return inventory_dict\n",
        "\n",
        "# Initialize inventory_dict\n",
        "inventory_dict={\"apple\":22,\"bananas\":30,\"peach\":15,\"mangos\":7,\"oranges\":12}\n",
        "#updating inventory_dict\n",
        "for i in range(3):\n",
        "  item=input(\"Enter item name: \")\n",
        "  quantity=int(input(f\"Enter the quantity of {item} that you want to add or remove(use sign'-') from the inventory: \"))\n",
        "  updated_inventory=update_inventory(inventory_dict,item,quantity)\n",
        "\n",
        "# Display updated inventory\n",
        "print(\"Updated dict is: \",updated_inventory)"
      ],
      "metadata": {
        "colab": {
          "base_uri": "https://localhost:8080/"
        },
        "id": "zm35h2pWMYrm",
        "outputId": "1c287db2-611d-40fd-bad3-833f46815f0a"
      },
      "execution_count": null,
      "outputs": [
        {
          "output_type": "stream",
          "name": "stdout",
          "text": [
            "Enter item name: apple\n",
            "Enter the quantity of apple that you want to add or remove(use sign'-') from the inventory: 5\n",
            "Enter item name: bananas\n",
            "Enter the quantity of bananas that you want to add or remove(use sign'-') from the inventory: -15\n",
            "Enter item name: stawberry\n",
            "Enter the quantity of stawberry that you want to add or remove(use sign'-') from the inventory: 33\n",
            "Updated dict is:  {'apple': 27, 'bananas': 15, 'peach': 15, 'mangos': 7, 'oranges': 12, 'stawberry': 33}\n"
          ]
        }
      ]
    }
  ]
}